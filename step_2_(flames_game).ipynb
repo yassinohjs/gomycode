{
  "nbformat": 4,
  "nbformat_minor": 0,
  "metadata": {
    "colab": {
      "name": "step 2 (flames game).ipynb",
      "provenance": [],
      "collapsed_sections": []
    },
    "kernelspec": {
      "name": "python3",
      "display_name": "Python 3"
    },
    "language_info": {
      "name": "python"
    }
  },
  "cells": [
    {
      "cell_type": "code",
      "metadata": {
        "id": "n4lQEvpcUrvN",
        "outputId": "17ec35db-c810-4e28-89fd-ce3fa6cf18d7",
        "colab": {
          "base_uri": "https://localhost:8080/"
        }
      },
      "source": [
        "def remove_match_char(list1, list2):\n",
        " \n",
        "    for i in range(len(list1)) :\n",
        "        for j in range(len(list2)) :\n",
        " \n",
        "            if list1[i] == list2[j] :\n",
        "                c = list1[i]\n",
        " \n",
        "                list1.remove(c)\n",
        "                list2.remove(c)\n",
        " \n",
        "                list3 = list1 + [\"*\"] + list2\n",
        " \n",
        "                return [list3, True]\n",
        " \n",
        "    list3 = list1 + [\"*\"] + list2\n",
        "    return [list3, False]\n",
        "\n",
        "if __name__ == \"__main__\" :\n",
        "     \n",
        "    p1 = input(\"Player 1 name : \")\n",
        " \n",
        "    p1 = p1.lower()\n",
        " \n",
        "    p1.replace(\" \", \"\")\n",
        "\n",
        "    p1_list = list(p1)\n",
        " \n",
        "    p2 = input(\"Player 2 name : \")\n",
        "    p2 = p2.lower()\n",
        "    p2.replace(\" \", \"\")\n",
        "    p2_list = list(p2)\n",
        " \n",
        "    proceed = True\n",
        "     \n",
        "    while proceed :\n",
        " \n",
        "        ret_list = remove_match_char(p1_list, p2_list)\n",
        " \n",
        "        con_list = ret_list[0]\n",
        " \n",
        "        proceed = ret_list[1]\n",
        " \n",
        "        star_index = con_list.index(\"*\")\n",
        " \n",
        "        p1_list = con_list[ : star_index]\n",
        " \n",
        "        p2_list = con_list[star_index + 1 : ]\n",
        " \n",
        "    count = len(p1_list) + len(p2_list)\n",
        " \n",
        "    result = [\"Friends\", \"Love\", \"Affection\", \"Marriage\", \"Enemy\", \"Siblings\"]\n",
        "\n",
        "    while len(result) > 1 :\n",
        " \n",
        "        split_index = (count % len(result) - 1)\n",
        " \n",
        "        if split_index >= 0 :\n",
        " \n",
        "            right = result[split_index + 1 : ]\n",
        "            left = result[ : split_index]\n",
        "\n",
        "            result = right + left\n",
        " \n",
        "        else :\n",
        "            result = result[ : len(result) - 1]\n",
        "\n",
        "    print(\"Relationship status :\", result[0])"
      ],
      "execution_count": 11,
      "outputs": [
        {
          "output_type": "stream",
          "text": [
            "Player 1 name : 4\n",
            "Player 2 name : 4\n",
            "Relationship status : Friends\n"
          ],
          "name": "stdout"
        }
      ]
    }
  ]
}