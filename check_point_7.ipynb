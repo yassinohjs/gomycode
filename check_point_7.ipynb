{
  "nbformat": 4,
  "nbformat_minor": 0,
  "metadata": {
    "colab": {
      "name": "check point 7",
      "private_outputs": true,
      "provenance": [],
      "collapsed_sections": []
    },
    "kernelspec": {
      "name": "python3",
      "display_name": "Python 3"
    },
    "language_info": {
      "name": "python"
    }
  },
  "cells": [
    {
      "cell_type": "code",
      "metadata": {
        "id": "Pbi3Oy8NnUlb"
      },
      "source": [
        "import pandas as pd\n",
        "import numpy as np\n",
        "\n",
        "exam_data = {'name': ['Anastasia', 'Dima', 'Katherine', 'James', 'Emily', 'Michael', 'Matthew', 'Laura', 'Kevin', 'Jonas'],\n",
        "'score': [12.5, 9, 16.5, np.nan, 9, 20, 14.5, np.nan, 8, 19],\n",
        "'attempts': [1, 3, 2, 3, 2, 3, 1, 1, 2, 1],\n",
        "'qualify': ['yes', 'no', 'yes', 'no', 'no', 'yes', 'yes', 'no', 'no', 'yes']}\n",
        "labels = ['a', 'b', 'c', 'd', 'e', 'f', 'g', 'h', 'i', 'j']\n",
        "df = pd.DataFrame(exam_data , index=labels)\n",
        "print(df)\n",
        "print (\"\")\n",
        "df = df.dropna()\n",
        "print(\"Select specific columns:\")\n",
        "print(df[['name', 'score']])\n",
        "df.loc['k']= ['suresh',15.5,1,\"yes\"]\n",
        "suresh={'name' : \"Suresh\", 'score': 15.5, 'attempts': 1, 'qualify': \"yes\"}\n",
        "df.append(suresh,ignore_index=True)\n",
        "print(\"\\nDelete the 'attempts' column from the data frame:\")\n",
        "df.pop('attempts')\n",
        "print(df)\n",
        "p={'success':[]}\n",
        "new_data_pro=pd.DataFrame(p)\n",
        "new_data_promax=df.append(new_data_pro,ignore_index=False)\n",
        "\n",
        "for value in df['score']:\n",
        "   if value > 10 :\n",
        "     p['success'].append(1)\n",
        "   else:\n",
        "     p['success'].append(0)\n",
        "print(p)\n",
        "new_data_promax[\"success\"]=p['success']\n",
        "new_data_promax.success=p['success']\n",
        "print(new_data_promax)\n",
        "new_data_promax.to_csv('my_data.csv',index=False)\n",
        "n=pd.read_csv('my_data.csv')\n",
        "print (n)"
      ],
      "execution_count": null,
      "outputs": []
    },
    {
      "cell_type": "code",
      "metadata": {
        "id": "UDohjkgLkNHi"
      },
      "source": [
        ""
      ],
      "execution_count": null,
      "outputs": []
    }
  ]
}