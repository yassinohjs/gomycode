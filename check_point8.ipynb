{
  "nbformat": 4,
  "nbformat_minor": 0,
  "metadata": {
    "colab": {
      "name": "check point8",
      "private_outputs": true,
      "provenance": [],
      "collapsed_sections": []
    },
    "kernelspec": {
      "name": "python3",
      "display_name": "Python 3"
    },
    "language_info": {
      "name": "python"
    }
  },
  "cells": [
    {
      "cell_type": "code",
      "metadata": {
        "id": "FIxuhrGToHK3"
      },
      "source": [
        "f = open(\"python.txt\", 'r')\n",
        "l = f.read ()\n",
        "print(l)"
      ],
      "execution_count": null,
      "outputs": []
    },
    {
      "cell_type": "code",
      "metadata": {
        "id": "vURcwzZ8nFF7"
      },
      "source": [
        "f = open(\"python.txt\", 'r')\n",
        "l = f.readline ()\n",
        "print(l)"
      ],
      "execution_count": null,
      "outputs": []
    },
    {
      "cell_type": "code",
      "metadata": {
        "id": "8A2bCHkzoDfv"
      },
      "source": [
        "i = int(input(\"enter i lines :- \"))\n",
        "f = open(\"python.txt\",'r')\n",
        "for line in (f.readlines()[-i:]):\n",
        "  print(line,end=\"\")\n",
        "f.close()"
      ],
      "execution_count": null,
      "outputs": []
    },
    {
      "cell_type": "code",
      "metadata": {
        "id": "yM-VUnoGqNLn"
      },
      "source": [
        "def count_words(filepath):\n",
        "   with open(filepath) as f:\n",
        "       data = f.read()\n",
        "       data.replace(\",\", \" \")\n",
        "       return len(data.split(\" \"))\n",
        "print(count_words(\"python.txt\"))"
      ],
      "execution_count": null,
      "outputs": []
    },
    {
      "cell_type": "code",
      "metadata": {
        "id": "CPTpBt6os1h3"
      },
      "source": [
        ""
      ],
      "execution_count": null,
      "outputs": []
    },
    {
      "cell_type": "code",
      "metadata": {
        "id": "hQhOIbReso9D"
      },
      "source": [
        "\n",
        "f = open(\"python.txt\",'r')\n",
        "for last line in f:\n",
        "  pass\n",
        "  print(line,end=\"\")\n",
        "f.close()"
      ],
      "execution_count": null,
      "outputs": []
    }
  ]
}