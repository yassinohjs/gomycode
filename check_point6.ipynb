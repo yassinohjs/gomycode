{
  "nbformat": 4,
  "nbformat_minor": 0,
  "metadata": {
    "colab": {
      "name": "check point6",
      "private_outputs": true,
      "provenance": []
    },
    "kernelspec": {
      "name": "python3",
      "display_name": "Python 3"
    },
    "language_info": {
      "name": "python"
    }
  },
  "cells": [
    {
      "cell_type": "code",
      "metadata": {
        "id": "XdoR6sMs9nES"
      },
      "source": [
        "#1\n",
        "from array import *\n",
        "array_num = array('i', [1, 3, 5, 3, 7, 1, 9, 3])\n",
        "print(\"Original array: \"+str(array_num))\n",
        "num_list = array_num.tolist()\n",
        "print(\"Convert the said array to an ordinary list with the same items:\")\n",
        "print(num_list)"
      ],
      "execution_count": null,
      "outputs": []
    },
    {
      "cell_type": "code",
      "metadata": {
        "id": "T8Lz4Reu971U"
      },
      "source": [
        "#2\n",
        "import numpy as np\n",
        "a=3\n",
        "n_array = np.array([[1, 3, 2],\n",
        "                    [5, 7, 1],\n",
        "                    [5, 9, 8]])\n",
        "print(\"Numpy Matrix is:\")\n",
        "print(n_array)\n",
        "\n",
        "trace = np.trace(n_array)\n",
        "\n",
        "print(\"\\nTrace of given 3*3 matrix:\")\n",
        "print(trace)"
      ],
      "execution_count": null,
      "outputs": []
    },
    {
      "cell_type": "code",
      "metadata": {
        "id": "u9xAZCXxbSxm"
      },
      "source": [
        "#3\n",
        "import numpy as np\n",
        "x=5\n",
        "n= np.array([[1, 2], [3, 4], [5, 6], [7, 8]])\n",
        "print (n[n>x])\n"
      ],
      "execution_count": null,
      "outputs": []
    },
    {
      "cell_type": "code",
      "metadata": {
        "id": "-VCm_MbvlLzn"
      },
      "source": [
        "#4\n",
        "import numpy as np\n",
        "a=np.array([[0, 3, 2],\n",
        "            [1, 7, 1],\n",
        "            [5, 9, 8]])\n",
        "b=np.array([[9, 4, 2],\n",
        "            [7, 6, 1],\n",
        "            [5, 2, 8]])\n",
        "c = a + b\n",
        "print(c)"
      ],
      "execution_count": null,
      "outputs": []
    },
    {
      "cell_type": "code",
      "metadata": {
        "id": "iIEertiwtd29"
      },
      "source": [
        "#5\n",
        "import numpy as np\n",
        "a=np.array([[0, 3, 2],\n",
        "            [1, 7, 1],\n",
        "            [5, 9, 8]])\n",
        "c=a.mean()\n",
        "t = a-c\n",
        "print (c)\n",
        "print (t)"
      ],
      "execution_count": null,
      "outputs": []
    }
  ]
}