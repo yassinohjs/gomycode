{
  "nbformat": 4,
  "nbformat_minor": 0,
  "metadata": {
    "colab": {
      "name": "step 1 (flames game).ipynb",
      "provenance": [],
      "collapsed_sections": []
    },
    "kernelspec": {
      "name": "python3",
      "display_name": "Python 3"
    },
    "language_info": {
      "name": "python"
    }
  },
  "cells": [
    {
      "cell_type": "code",
      "metadata": {
        "id": "Xu6LpGQHeCo_",
        "outputId": "8c552017-1071-4057-c214-a72434de53b3",
        "colab": {
          "base_uri": "https://localhost:8080/"
        }
      },
      "source": [
        "import time\n",
        "def countdown(t):\n",
        "    while t:\n",
        "        mins, secs = divmod(t, 60)\n",
        "        timer = '{:02d}:{:02d}'.format(mins, secs)\n",
        "        print(timer, end=\"\\r\")\n",
        "        time.sleep(1)\n",
        "        t -= 1\n",
        "t = input(\"Enter the time in seconds: \")\n",
        "print(\"The time of code execution begin is : \", end =\"\")\n",
        "print(time.ctime())\n",
        "countdown(int(t)) \n",
        "print(\"The time of code execution end is : \", end =\"\")\n",
        "print(time.ctime())\n",
        " "
      ],
      "execution_count": 4,
      "outputs": [
        {
          "output_type": "stream",
          "text": [
            "Enter the time in seconds: 5\n",
            "The time of code execution begin is : Wed Aug  4 12:39:38 2021\n",
            "The time of code execution end is : Wed Aug  4 12:39:43 2021\n"
          ],
          "name": "stdout"
        }
      ]
    }
  ]
}