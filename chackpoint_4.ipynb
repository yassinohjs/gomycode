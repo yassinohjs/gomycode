{
  "nbformat": 4,
  "nbformat_minor": 0,
  "metadata": {
    "colab": {
      "name": "chackpoint 4",
      "private_outputs": true,
      "provenance": [],
      "collapsed_sections": []
    },
    "kernelspec": {
      "name": "python3",
      "display_name": "Python 3"
    },
    "language_info": {
      "name": "python"
    }
  },
  "cells": [
    {
      "cell_type": "code",
      "metadata": {
        "id": "JUEKPhTX_EQ6"
      },
      "source": [
        "#1\n",
        "def max_of_two( x, y ):\n",
        "    if x > y:\n",
        "        return x\n",
        "    return y\n",
        "def max_of_three( x, y, z ):\n",
        "    return max_of_two( x, max_of_two( y, z ) )\n",
        "print(max_of_three(20,19,35))"
      ],
      "execution_count": null,
      "outputs": []
    },
    {
      "cell_type": "code",
      "metadata": {
        "id": "HHdICkhKAy1g"
      },
      "source": [
        "#2\n",
        "def calculation(a, b):\n",
        "    return a+b, a-b\n",
        "\n",
        "res = calculation(40, 10)\n",
        "print(res) "
      ],
      "execution_count": null,
      "outputs": []
    },
    {
      "cell_type": "code",
      "metadata": {
        "id": "JFHaHwkKKIP1"
      },
      "source": [
        "#3\n",
        "def sum(list) :\n",
        "  s=0\n",
        "  for i in (list):\n",
        "    s=s+i\n",
        "  return s\n",
        "def multi(list) :\n",
        "  l=1\n",
        "  for i in (list):\n",
        "    l=l*i\n",
        "  return l\n",
        "new1=[]\n",
        "liste=[5,4,3]\n",
        "for i in range(0,len(liste),2) :\n",
        "  new1.append(liste[i])\n",
        "print(sum(new1))\n",
        "for i in range(1,len(liste),2) :\n",
        "  print(multi(new1))"
      ],
      "execution_count": null,
      "outputs": []
    },
    {
      "cell_type": "code",
      "metadata": {
        "id": "cSq0zla6NTnd"
      },
      "source": [
        "liste"
      ],
      "execution_count": null,
      "outputs": []
    },
    {
      "cell_type": "code",
      "metadata": {
        "id": "G2CoVpmFNT3b"
      },
      "source": [
        "new1"
      ],
      "execution_count": null,
      "outputs": []
    },
    {
      "cell_type": "code",
      "metadata": {
        "id": "nZ3AaO_QGuIQ"
      },
      "source": [
        "#4\n",
        "items=[n for n in input().split('-')]\n",
        "items.sort()\n",
        "print('-'.join(items))"
      ],
      "execution_count": null,
      "outputs": []
    },
    {
      "cell_type": "code",
      "metadata": {
        "id": "RhglOtcFUbHM"
      },
      "source": [
        "#5\n",
        "import math\n",
        "c=50\n",
        "h=30 \n",
        "value = []\n",
        "items=[x for x in input().split(',')]\n",
        "for d in items:\n",
        "    value.append(str(int(round(math.sqrt(2*c*float(d)/h)))))\n",
        "\n",
        "print(','.join(value)) "
      ],
      "execution_count": null,
      "outputs": []
    },
    {
      "cell_type": "code",
      "metadata": {
        "id": "-5Sp_nUjOzlU"
      },
      "source": [
        ""
      ],
      "execution_count": null,
      "outputs": []
    },
    {
      "cell_type": "code",
      "metadata": {
        "id": "EqdThA96O1TZ"
      },
      "source": [
        ""
      ],
      "execution_count": null,
      "outputs": []
    },
    {
      "cell_type": "code",
      "metadata": {
        "id": "_ZhvmIe0U6do"
      },
      "source": [
        "#3\n",
        "lst = []\n",
        "num = int(input('How many numbers: ')) \n",
        "for n in range(num): \n",
        "    numbers = int(input('Enter number ')) \n",
        "    lst.append(numbers)  \n",
        "print(\"Sum of elements in given list is :\", sum(lst))\n"
      ],
      "execution_count": null,
      "outputs": []
    }
  ]
}