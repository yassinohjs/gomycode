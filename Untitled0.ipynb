{
  "nbformat": 4,
  "nbformat_minor": 0,
  "metadata": {
    "colab": {
      "name": "Untitled0.ipynb",
      "provenance": [],
      "collapsed_sections": [],
      "authorship_tag": "ABX9TyOqFcqVnegAnaMR23gt4/5C",
      "include_colab_link": true
    },
    "kernelspec": {
      "display_name": "Python 3",
      "name": "python3"
    },
    "language_info": {
      "name": "python"
    }
  },
  "cells": [
    {
      "cell_type": "markdown",
      "metadata": {
        "id": "view-in-github",
        "colab_type": "text"
      },
      "source": [
        "<a href=\"https://colab.research.google.com/github/yassinohjs/gomycode/blob/main/Untitled0.ipynb\" target=\"_parent\"><img src=\"https://colab.research.google.com/assets/colab-badge.svg\" alt=\"Open In Colab\"/></a>"
      ]
    },
    {
      "cell_type": "code",
      "metadata": {
        "id": "dDCYVmvaRPFk",
        "colab": {
          "base_uri": "https://localhost:8080/"
        },
        "outputId": "3002cf60-826f-4aae-bf93-ff0d46b85c2e"
      },
      "source": [
        "#1\n",
        "str1 =\" aziz\"\n",
        "str2 =\"ahmed\"\n",
        "print(\"str1 + str2 = \", str2 + str1)"
      ],
      "execution_count": 1,
      "outputs": [
        {
          "output_type": "stream",
          "text": [
            "str1 + str2 =  ahmed aziz\n"
          ],
          "name": "stdout"
        }
      ]
    },
    {
      "cell_type": "code",
      "metadata": {
        "id": "F8CDHpMqVzld",
        "colab": {
          "base_uri": "https://localhost:8080/"
        },
        "outputId": "5e7478a8-7480-4ba5-aa63-939b56e4eab2"
      },
      "source": [
        "#2\n",
        "n =5\n",
        "n1 =55\n",
        "n2 =555\n",
        "print (n + n1 + n2) "
      ],
      "execution_count": 10,
      "outputs": [
        {
          "output_type": "stream",
          "text": [
            "615\n"
          ],
          "name": "stdout"
        }
      ]
    },
    {
      "cell_type": "code",
      "metadata": {
        "id": "HUaS556LX6pv",
        "colab": {
          "base_uri": "https://localhost:8080/"
        },
        "outputId": "ac60bf77-2e80-463a-af3e-84d2ec35d2dd"
      },
      "source": [
        "#3\n",
        "num = int(input(\"Enter a number: \")) \n",
        "if (num % 2) == 0:\n",
        "   print(\"{0} is Even\".format(num))\n",
        "else:\n",
        "   print(\"{0} is Odd\".format(num))"
      ],
      "execution_count": 9,
      "outputs": [
        {
          "output_type": "stream",
          "text": [
            "Enter a number: 4\n",
            "4 is Even\n"
          ],
          "name": "stdout"
        }
      ]
    },
    {
      "cell_type": "code",
      "metadata": {
        "id": "U39NPY4tnRQO",
        "colab": {
          "base_uri": "https://localhost:8080/"
        },
        "outputId": "f0897f70-8fc6-4f8c-d04c-6906b221ddff"
      },
      "source": [
        "#4\n",
        "for i in range(2000,3201) :\n",
        "  if i%7==0 and i%5!=0 :\n",
        "    print(i,end=\" \") "
      ],
      "execution_count": 7,
      "outputs": [
        {
          "output_type": "stream",
          "text": [
            "2002 2009 2016 2023 2037 2044 2051 2058 2072 2079 2086 2093 2107 2114 2121 2128 2142 2149 2156 2163 2177 2184 2191 2198 2212 2219 2226 2233 2247 2254 2261 2268 2282 2289 2296 2303 2317 2324 2331 2338 2352 2359 2366 2373 2387 2394 2401 2408 2422 2429 2436 2443 2457 2464 2471 2478 2492 2499 2506 2513 2527 2534 2541 2548 2562 2569 2576 2583 2597 2604 2611 2618 2632 2639 2646 2653 2667 2674 2681 2688 2702 2709 2716 2723 2737 2744 2751 2758 2772 2779 2786 2793 2807 2814 2821 2828 2842 2849 2856 2863 2877 2884 2891 2898 2912 2919 2926 2933 2947 2954 2961 2968 2982 2989 2996 3003 3017 3024 3031 3038 3052 3059 3066 3073 3087 3094 3101 3108 3122 3129 3136 3143 3157 3164 3171 3178 3192 3199 "
          ],
          "name": "stdout"
        }
      ]
    },
    {
      "cell_type": "code",
      "metadata": {
        "id": "IFppKPGUXlRY",
        "colab": {
          "base_uri": "https://localhost:8080/"
        },
        "outputId": "de355685-54b4-4dc1-8622-e93035503460"
      },
      "source": [
        "#5\n",
        "def fact(x):\n",
        "    if x == 0:\n",
        "        return 1\n",
        "    return x * fact(x - 1)\n",
        "\n",
        "x=int(input())\n",
        "print(fact(x))"
      ],
      "execution_count": 6,
      "outputs": [
        {
          "output_type": "stream",
          "text": [
            "8\n",
            "40320\n"
          ],
          "name": "stdout"
        }
      ]
    },
    {
      "cell_type": "code",
      "metadata": {
        "id": "FgLFgZCXZB7_",
        "colab": {
          "base_uri": "https://localhost:8080/"
        },
        "outputId": "e1f8d0f4-6c3d-44cc-a5cf-eae1b10302a6"
      },
      "source": [
        "#6\n",
        "var_1 = input(\"Donner une chaine de caractére : \")\n",
        "c =len(var_1)\n",
        "k = \"\"\n",
        "for i in range (len(var_1)):\n",
        "  if i%2==0 :\n",
        "    k = k+var_1[i]\n",
        "print(k)"
      ],
      "execution_count": 3,
      "outputs": [
        {
          "output_type": "stream",
          "text": [
            "Donner une chaine de caractére : hello team\n",
            "hlota\n"
          ],
          "name": "stdout"
        }
      ]
    },
    {
      "cell_type": "code",
      "metadata": {
        "id": "XBXFduQAfR1b",
        "colab": {
          "base_uri": "https://localhost:8080/"
        },
        "outputId": "9710557d-8361-4d94-f85f-33c84f39c4eb"
      },
      "source": [
        "#7\n",
        "n=float(input(\"Donner le prix : \"))\n",
        "if n > 500 : \n",
        "  print(n*0.5)\n",
        "elif 200<=n>500 : \n",
        "  print(n*0.7)\n",
        "else : \n",
        "  print(n-n*0.9)"
      ],
      "execution_count": 5,
      "outputs": [
        {
          "output_type": "stream",
          "text": [
            "Donner le prix : 600\n",
            "300.0\n"
          ],
          "name": "stdout"
        }
      ]
    }
  ]
}