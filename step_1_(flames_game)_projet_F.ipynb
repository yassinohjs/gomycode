{
  "nbformat": 4,
  "nbformat_minor": 0,
  "metadata": {
    "colab": {
      "name": "step 1 (flames game).projet F",
      "provenance": [],
      "collapsed_sections": []
    },
    "kernelspec": {
      "name": "python3",
      "display_name": "Python 3"
    },
    "language_info": {
      "name": "python"
    }
  },
  "cells": [
    {
      "cell_type": "code",
      "metadata": {
        "id": "Yx2STJvz8HVQ"
      },
      "source": [
        "#2\n",
        "def remove_match_char(list1, list2):\n",
        " \n",
        "    for i in range(len(list1)) :\n",
        "        for j in range(len(list2)) :\n",
        " \n",
        "            if list1[i] == list2[j] :\n",
        "                c = list1[i]\n",
        " \n",
        "                list1.remove(c)\n",
        "                list2.remove(c)\n",
        " \n",
        "                list3 = list1 + [\"*\"] + list2\n",
        " \n",
        "                return [list3, True]\n",
        " \n",
        "    list3 = list1 + [\"*\"] + list2\n",
        "    return [list3, False]"
      ],
      "execution_count": null,
      "outputs": []
    }
  ]
}