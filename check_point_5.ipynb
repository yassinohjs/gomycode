{
  "nbformat": 4,
  "nbformat_minor": 0,
  "metadata": {
    "colab": {
      "name": "check point 5",
      "private_outputs": true,
      "provenance": [],
      "collapsed_sections": []
    },
    "kernelspec": {
      "name": "python3",
      "display_name": "Python 3"
    },
    "language_info": {
      "name": "python"
    }
  },
  "cells": [
    {
      "cell_type": "code",
      "metadata": {
        "id": "aJgkvVgfQV1f"
      },
      "source": [
        "#1\n",
        "class Point3D(object):\n",
        " def __init__(self, x, y, z):\n",
        "     self.x = x \n",
        "     self.y = y \n",
        "     self.z = z \n",
        "     \n",
        " def __repr__(self):\n",
        "   return \"(%d, %d, %d)\" % (self.x, self.y, self.z)\n",
        "        \n",
        "my_point = Point3D(x=1,y=2,z=3)\n",
        "print (my_point)  "
      ],
      "execution_count": null,
      "outputs": []
    },
    {
      "cell_type": "code",
      "metadata": {
        "id": "kO242f33Zd-R"
      },
      "source": [
        "#2\n",
        "class Rectangle():\n",
        "    def __init__(self, l, w):\n",
        "        self.length = l\n",
        "        self.width  = w\n",
        "\n",
        "    def rectangle_area(self):\n",
        "        return self.length*self.width\n",
        "\n",
        "newRectangle = Rectangle(4,3)\n",
        "print(newRectangle.rectangle_area())\n"
      ],
      "execution_count": null,
      "outputs": []
    },
    {
      "cell_type": "code",
      "metadata": {
        "id": "uXHgoQgXQucG"
      },
      "source": [
        "#2\n",
        "class Rectangle():\n",
        "    def __init__(self, l, w):\n",
        "        self.length = l\n",
        "        self.width  = w\n",
        "\n",
        "    def perimeter(self):\n",
        "        return (self.length+self.width)*2\n",
        "\n",
        "newRectangle = Rectangle(4,3)\n",
        "print(newRectangle.perimeter())"
      ],
      "execution_count": null,
      "outputs": []
    },
    {
      "cell_type": "code",
      "metadata": {
        "id": "CC_DtT5_aeyu"
      },
      "source": [
        "#3\n",
        "from math import pi\n",
        "from math import sqrt\n",
        "class Circle():\n",
        "    def __init__(self, x1, y1, rd):\n",
        "        self.radius = rd \n",
        "        self.x = x1\n",
        "        self.y = y1\n",
        "    def perimeter(self):\n",
        "        return self.radius *2*3.14\n",
        "        \n",
        "    def area(self):\n",
        "        return self.radius **2*pi\n",
        "\n",
        "NewCircle = Circle(8,4,2)\n",
        "print(NewCircle.perimeter()) \n",
        "print(NewCircle.area()) \n",
        "\n",
        "class point():\n",
        "    def __init__(self, x2, y2):\n",
        "        self.x = x2\n",
        "        self.y = y2\n",
        "\n",
        "newpoint = point(2,1) \n",
        "dis = sqrt((4-2)**2+(2-1)**2)\n",
        "\n",
        "if NewCircle.radius >= dis :\n",
        "   print (\"yes!\")\n",
        "elif NewCircle.radius <= dis  :\n",
        "   print (\"no!\")\n",
        "\n"
      ],
      "execution_count": null,
      "outputs": []
    },
    {
      "cell_type": "code",
      "metadata": {
        "id": "I_Dbl4xwsJFY"
      },
      "source": [
        "#4\n",
        "x=int(input(\"withdrow:\"))\n",
        "y=int(input(\"diposit:\"))\n",
        "class bank :\n",
        "  def __init__ (self,balance):\n",
        "    self.balance=balance\n",
        "  def diposit (self,a):\n",
        "    return self.balance+a\n",
        "  def withdrow (self,k):\n",
        "    return self.balance-k\n",
        "a=bank(500)\n",
        "print(a.balance+a.diposit(y))\n",
        "print(a.balance-a.withdrow(x))"
      ],
      "execution_count": null,
      "outputs": []
    }
  ]
}